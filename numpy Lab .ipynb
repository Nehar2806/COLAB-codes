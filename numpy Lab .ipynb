{
  "cells": [
    {
      "cell_type": "markdown",
      "metadata": {
        "id": "view-in-github",
        "colab_type": "text"
      },
      "source": [
        "<a href=\"https://colab.research.google.com/github/Nehar2806/COLAB-codes/blob/main/numpy%20Lab%20.ipynb\" target=\"_parent\"><img src=\"https://colab.research.google.com/assets/colab-badge.svg\" alt=\"Open In Colab\"/></a>"
      ]
    },
    {
      "cell_type": "markdown",
      "metadata": {
        "id": "vMwy5GH3ckdH"
      },
      "source": [
        "# Getting Started with NumPy - Lab"
      ]
    },
    {
      "cell_type": "markdown",
      "metadata": {
        "id": "S4WAekwLckdJ"
      },
      "source": [
        "## Introduction"
      ]
    },
    {
      "cell_type": "markdown",
      "metadata": {
        "id": "a-s6Yjy0ckdJ"
      },
      "source": [
        "Now that we have introduced NumPy, let's put it to practice. In this lab, you are going to be creating arrays, performing operations on them, and returning new arrays all using the NumPy library. Let's get started!"
      ]
    },
    {
      "cell_type": "markdown",
      "metadata": {
        "id": "oDxQ7C2VckdJ"
      },
      "source": [
        "## Objectives\n",
        "\n",
        "You will be able to:\n",
        "\n",
        "- Instantiate a numpy array with specified values\n",
        "- Use broadcasting to perform a math operation on an entire numpy array\n"
      ]
    },
    {
      "cell_type": "markdown",
      "metadata": {
        "id": "WA3Jt_OdckdK"
      },
      "source": [
        "## Import `NumPy` under the standard alias"
      ]
    },
    {
      "cell_type": "code",
      "execution_count": 1,
      "metadata": {
        "id": "j5U_nit6ckdK"
      },
      "outputs": [],
      "source": [
        "# Import numpy using the standard alias\n",
        "import numpy as np"
      ]
    },
    {
      "cell_type": "markdown",
      "metadata": {
        "id": "jO6AuYMlckdK"
      },
      "source": [
        "## Generate some mock data"
      ]
    },
    {
      "cell_type": "markdown",
      "metadata": {
        "id": "V4JljC29ckdK"
      },
      "source": [
        "Create a NumPy array for each of the following:\n",
        "    1. Using a range\n",
        "    2. Using a Python list\n",
        "    \n",
        "Below, create a list in Python that has 5 elements (i.e. [0,1,2,3,4]) and assign it to the variable `py_list`.\n",
        "\n",
        "Next, do the same, but instead of a list, create a range with 5 elements and assign it to the variable, `py_range`.\n",
        "\n",
        "Finally, use the list and range to create NumPy arrays and assign the array from list to the variable `array_from_list`, and the array from the range to the variable `array_from_range`."
      ]
    },
    {
      "cell_type": "code",
      "execution_count": 9,
      "metadata": {
        "id": "DsgHuW-WckdL"
      },
      "outputs": [],
      "source": [
        "# Your code here\n",
        "x=[0,1,2,3,4]\n",
        "py_list=x\n",
        "py_range=range(5)\n",
        "array_from_list=np.array(py_list)\n",
        "array_from_range=np.arange(5)\n"
      ]
    },
    {
      "cell_type": "markdown",
      "metadata": {
        "id": "Ow0ZjkpmckdL"
      },
      "source": [
        "Next, we have a list of heights and weights and we'd like to use them to create a collection of BMIs. However, they are both in inches and pounds (imperial system), respectively.\n",
        "\n",
        "Let's use what we know to create NumPy arrays with the metric equivalent values (height in meters & weight in kg).\n",
        "\n",
        "> **Remember:** *NumPy can make these calculations a lot easier and with less code than a list!*"
      ]
    },
    {
      "cell_type": "markdown",
      "metadata": {
        "id": "JPW4eoDxckdL"
      },
      "source": [
        "> 1.0 inch = 0.0254 meters\n",
        "\n",
        "> 2.2046 lbs = 1 kilogram"
      ]
    },
    {
      "cell_type": "code",
      "execution_count": 20,
      "metadata": {
        "id": "EXpDxvhrckdL",
        "outputId": "8e410147-8195-4b5a-b599-6c5df10325b5",
        "colab": {
          "base_uri": "https://localhost:8080/"
        }
      },
      "outputs": [
        {
          "output_type": "execute_result",
          "data": {
            "text/plain": [
              "array([1.651 , 1.7272, 1.8542, 1.905 , 1.9812])"
            ]
          },
          "metadata": {},
          "execution_count": 20
        }
      ],
      "source": [
        "# Use the conversion rate for turning height in inches to meters\n",
        "list_height_inches = [65, 68, 73, 75, 78]\n",
        "\n",
        "# Your code here\n",
        "array_height_inches = np.array(list_height_inches)\n",
        "array_height_meters = array_height_inches * 0.0254\n",
        "array_height_meters\n"
      ]
    },
    {
      "cell_type": "code",
      "execution_count": 21,
      "metadata": {
        "id": "PUjXcmPdckdL",
        "outputId": "b5057add-abc7-4869-bc59-d22aeb0bb4ab",
        "colab": {
          "base_uri": "https://localhost:8080/"
        }
      },
      "outputs": [
        {
          "output_type": "execute_result",
          "data": {
            "text/plain": [
              "array([330.69 , 308.644, 485.012, 451.943, 584.219])"
            ]
          },
          "metadata": {},
          "execution_count": 21
        }
      ],
      "source": [
        "# Use the conversion rate for turning weight in pounds to kilograms\n",
        "list_weight_pounds = [150, 140, 220, 205, 265]\n",
        "\n",
        "# Your code here\n",
        "array_weight_pounds=np.array(list_weight_pounds)\n",
        "array_weight_kg=array_weight_pounds*2.2046\n",
        "array_weight_kg\n"
      ]
    },
    {
      "cell_type": "markdown",
      "metadata": {
        "id": "LGcN2P-YckdL"
      },
      "source": [
        "The metric formula for calculating BMI is as follows:\n",
        "\n",
        "> BMI = weight (kg) ÷ height^2 (m^2)\n",
        "\n",
        "So, to get BMI we divide weight by the squared value of height. For example, if I weighed 130kg and was 1.9 meters tall, the calculation would look like:\n",
        "\n",
        "> BMI = 130 / (1.9*1.9)\n",
        "\n",
        "Use the BMI calculation to create a NumPy array of BMIs"
      ]
    },
    {
      "cell_type": "code",
      "execution_count": 22,
      "metadata": {
        "id": "C6fSTnzYckdV",
        "outputId": "978ab004-9d74-4b78-de63-7d0bcce39324",
        "colab": {
          "base_uri": "https://localhost:8080/"
        }
      },
      "outputs": [
        {
          "output_type": "execute_result",
          "data": {
            "text/plain": [
              "array([121.31846749, 103.46002526, 141.07151502, 124.53565352,\n",
              "       148.8397865 ])"
            ]
          },
          "metadata": {},
          "execution_count": 22
        }
      ],
      "source": [
        "# Your code here\n",
        "BMI_array = array_weight_kg/(array_height_meters*array_height_meters)\n",
        "BMI_array"
      ]
    },
    {
      "cell_type": "markdown",
      "metadata": {
        "id": "zJvfByPHckdV"
      },
      "source": [
        "## Create a vector of ones the same size as your BMI vector using `np.ones()`"
      ]
    },
    {
      "cell_type": "code",
      "execution_count": 27,
      "metadata": {
        "id": "q028YkuzckdV",
        "outputId": "e891930b-ed9f-48a9-85b8-61c0310e64e8",
        "colab": {
          "base_uri": "https://localhost:8080/"
        }
      },
      "outputs": [
        {
          "output_type": "execute_result",
          "data": {
            "text/plain": [
              "array([1., 1., 1., 1., 1.])"
            ]
          },
          "metadata": {},
          "execution_count": 27
        }
      ],
      "source": [
        "# Your code here\n",
        "\n",
        "identity = np.ones(5)\n",
        "identity"
      ]
    },
    {
      "cell_type": "markdown",
      "metadata": {
        "id": "TtcrGJK8ckdV"
      },
      "source": [
        "## Multiply the BMI_array by your vector of ones\n",
        "The resulting product should have the same values as your original BMI numpy array."
      ]
    },
    {
      "cell_type": "code",
      "execution_count": 28,
      "metadata": {
        "id": "yqcr3kA3ckdV",
        "outputId": "46a09212-9539-4831-d91f-e1fcbffb5972",
        "colab": {
          "base_uri": "https://localhost:8080/"
        }
      },
      "outputs": [
        {
          "output_type": "execute_result",
          "data": {
            "text/plain": [
              "array([121.31846749, 103.46002526, 141.07151502, 124.53565352,\n",
              "       148.8397865 ])"
            ]
          },
          "metadata": {},
          "execution_count": 28
        }
      ],
      "source": [
        "# Your code here\n",
        "BMI_array*identity"
      ]
    },
    {
      "cell_type": "markdown",
      "metadata": {
        "id": "AO1Ce0NhckdW"
      },
      "source": [
        "## Level Up: Using NumPy to Parse a File\n",
        "The Pandas library that we've been using is built on top of NumPy; all columns/series in a Pandas DataFrame are built using NumPy arrays. To get a better idea of a how a built-in method like `pd.read_csv()` works, we'll try and recreate that here!"
      ]
    },
    {
      "cell_type": "code",
      "execution_count": 29,
      "metadata": {
        "id": "xG3xEz7DckdW",
        "outputId": "ed155ca9-dc0b-43ca-f90e-33619d770978",
        "colab": {
          "base_uri": "https://localhost:8080/",
          "height": 219
        }
      },
      "outputs": [
        {
          "output_type": "error",
          "ename": "FileNotFoundError",
          "evalue": "[Errno 2] No such file or directory: 'bp.txt'",
          "traceback": [
            "\u001b[0;31m---------------------------------------------------------------------------\u001b[0m",
            "\u001b[0;31mFileNotFoundError\u001b[0m                         Traceback (most recent call last)",
            "\u001b[0;32m<ipython-input-29-3af4c1c983fb>\u001b[0m in \u001b[0;36m<cell line: 0>\u001b[0;34m()\u001b[0m\n\u001b[1;32m      1\u001b[0m \u001b[0;31m# Open a text file (csv files are just plaintext separated by commas)\u001b[0m\u001b[0;34m\u001b[0m\u001b[0;34m\u001b[0m\u001b[0m\n\u001b[0;32m----> 2\u001b[0;31m \u001b[0mf\u001b[0m \u001b[0;34m=\u001b[0m \u001b[0mopen\u001b[0m\u001b[0;34m(\u001b[0m\u001b[0;34m'bp.txt'\u001b[0m\u001b[0;34m)\u001b[0m\u001b[0;34m\u001b[0m\u001b[0;34m\u001b[0m\u001b[0m\n\u001b[0m\u001b[1;32m      3\u001b[0m \u001b[0mn_rows\u001b[0m \u001b[0;34m=\u001b[0m \u001b[0mlen\u001b[0m\u001b[0;34m(\u001b[0m\u001b[0mf\u001b[0m\u001b[0;34m.\u001b[0m\u001b[0mreadlines\u001b[0m\u001b[0;34m(\u001b[0m\u001b[0;34m)\u001b[0m\u001b[0;34m)\u001b[0m\u001b[0;34m\u001b[0m\u001b[0;34m\u001b[0m\u001b[0m\n\u001b[1;32m      4\u001b[0m \u001b[0;31m# Print number of lines in the file\u001b[0m\u001b[0;34m\u001b[0m\u001b[0;34m\u001b[0m\u001b[0m\n\u001b[1;32m      5\u001b[0m \u001b[0mprint\u001b[0m\u001b[0;34m(\u001b[0m\u001b[0;34m'The file has {} lines.'\u001b[0m\u001b[0;34m.\u001b[0m\u001b[0mformat\u001b[0m\u001b[0;34m(\u001b[0m\u001b[0mn_rows\u001b[0m\u001b[0;34m)\u001b[0m\u001b[0;34m)\u001b[0m\u001b[0;34m\u001b[0m\u001b[0;34m\u001b[0m\u001b[0m\n",
            "\u001b[0;31mFileNotFoundError\u001b[0m: [Errno 2] No such file or directory: 'bp.txt'"
          ]
        }
      ],
      "source": [
        "# Open a text file (csv files are just plaintext separated by commas)\n",
        "f = open('bp.txt')\n",
        "n_rows = len(f.readlines())\n",
        "# Print number of lines in the file\n",
        "print('The file has {} lines.'.format(n_rows))\n",
        "# After using readlines, we must reopen the file\n",
        "f = open('bp.txt')\n",
        "# The file has values separated by tabs; we read the first line and check it's length\n",
        "n_cols = (len(f.readline().split('\\t')))\n",
        "\n",
        "f = open('bp.txt')\n",
        "\n",
        "# Your code here\n",
        "\n",
        "# Pseudocode outline below\n",
        "#1) Create a matrix of zeros that is the same size of the file\n",
        "data_matrix=np.zeros((n_rows-1, n_cols))\n",
        "#2) Iterate through the file: \"for line in f:\" Hint: using enumerate will also be required\n",
        "# Use enumerate to get both the index (row number) and the line content\n",
        "for i, line in enumerate(f):\n",
        "    #3) Update each row of the matrix with the new stream of data\n",
        "    #Hint: skip the first row (it's just column names, not the data.)\n",
        "    if i > 0: # Skip the header row (index 0)\n",
        "        # Split the line by the tab delimiter\n",
        "        values = line.strip().split('\\t') # Use strip() to remove leading/trailing whitespace/newlines\n",
        "        # Convert the values to float and assign to the corresponding row in the data_matrix\n",
        "        # Handle potential errors if conversion fails (though not strictly required by the pseudocode)\n",
        "        try:\n",
        "            data_matrix[i-1] = [float(value) for value in values] # i-1 because we are skipping the header\n",
        "        except ValueError as e:\n",
        "            print(f\"Could not convert line {i+1} to float: {e}. Line content: {line.strip()}\")\n",
        "            # Decide how to handle errors, e.g., skip row, fill with NaN, etc.\n",
        "            # For this example, we'll just print a message and the row will remain zeros\n",
        "\n",
        "#4) Preview your results; you should now have a NumPy matrix with the data from the file\n",
        "print(\"\\nData Matrix:\")\n",
        "print(data_matrix)\n",
        "\n",
        "# Close the file after processing\n",
        "f.close()\n"
      ]
    },
    {
      "cell_type": "markdown",
      "metadata": {
        "id": "296KziJRckdW"
      },
      "source": [
        "## Summary"
      ]
    },
    {
      "cell_type": "markdown",
      "metadata": {
        "id": "aScWnSyRckdW"
      },
      "source": [
        "In this lab, we practiced creating NumPy arrays from both lists and ranges. We then practiced performing math operations like converting imperial measurements to metric measurements on each element of a NumPy array to create new arrays with new values. Finally, we used both of our new NumPy arrays to operate on each other and create new arrays containing the BMIs from our arrays containing heights and weights."
      ]
    }
  ],
  "metadata": {
    "kernelspec": {
      "display_name": "Python 3",
      "language": "python",
      "name": "python3"
    },
    "language_info": {
      "codemirror_mode": {
        "name": "ipython",
        "version": 3
      },
      "file_extension": ".py",
      "mimetype": "text/x-python",
      "name": "python",
      "nbconvert_exporter": "python",
      "pygments_lexer": "ipython3",
      "version": "3.7.3"
    },
    "colab": {
      "provenance": [],
      "include_colab_link": true
    }
  },
  "nbformat": 4,
  "nbformat_minor": 0
}